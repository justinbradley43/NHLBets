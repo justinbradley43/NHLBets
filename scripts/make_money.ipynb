{
 "cells": [
  {
   "cell_type": "code",
   "execution_count": 1,
   "metadata": {},
   "outputs": [],
   "source": [
    "import pandas as pd\n",
    "import numpy as np\n",
    "import random\n",
    "import tensorflow as tf\n",
    "from sklearn.model_selection import train_test_split\n",
    "from sklearn.preprocessing import StandardScaler\n",
    "from keras.models import load_model\n",
    "import keras\n"
   ]
  },
  {
   "cell_type": "code",
   "execution_count": 2,
   "metadata": {},
   "outputs": [],
   "source": [
    "def eval_keras(df_name: str, model_name: str, threshold:float) -> list:\n",
    "    # read data\n",
    "    df = pd.read_csv(df_name)\n",
    "    X = df.drop('Outcome', axis=1)\n",
    "    y = df['Outcome']\n",
    "\n",
    "    # convert data to arrays\n",
    "    X = np.array(X)\n",
    "    y = np.array(y)\n",
    "\n",
    "    # split data into the appropriate groups\n",
    "    X_train, X_test, y_train, y_test = train_test_split(X, y, test_size=0.2)\n",
    "\n",
    "    # scale X data\n",
    "    scaler = StandardScaler()\n",
    "    X_train = scaler.fit_transform(X_train)\n",
    "    X_test = scaler.transform(X_test)\n",
    "\n",
    "    # load the saved model\n",
    "    model = load_model(model_name)\n",
    "\n",
    "    # read the data for the predictions to be compared to\n",
    "    real_X = pd.read_csv(df_name).drop('Outcome', axis=1)\n",
    "    real_y = pd.read_csv(df_name)['Outcome']\n",
    "\n",
    "    # loop through the test data and get recommended bets\n",
    "    winning_bets = []\n",
    "    losing_bets = []\n",
    "    for i in range(len(real_X)):\n",
    "        try:\n",
    "            prediction = model.predict(scaler.transform(real_X.iloc[i].values.reshape(1, -1)), verbose=0)\n",
    "            actual = real_y.iloc[i]\n",
    "            if prediction > threshold and actual == 1:\n",
    "                winning_bets.append([real_X.iloc[i].loc['Column501'], prediction.item()])\n",
    "            elif prediction > threshold and actual == 0:\n",
    "                losing_bets.append([real_X.iloc[i].loc['Column501'], prediction.item()])\n",
    "        except:\n",
    "            pass\n",
    "    return [winning_bets, losing_bets]"
   ]
  },
  {
   "cell_type": "code",
   "execution_count": 6,
   "metadata": {},
   "outputs": [],
   "source": [
    "import torch\n",
    "import torch.nn as nn\n",
    "\n",
    "\n",
    "def eval_pytorch(df_name: str, model_name: str, threshold:float) -> list:\n",
    "    # read data\n",
    "    df = pd.read_csv(df_name)\n",
    "    X = df.drop('Outcome', axis=1)\n",
    "    y = df['Outcome']\n",
    "\n",
    "    # convert data to arrays\n",
    "    X = np.array(X)\n",
    "    y = np.array(y)\n",
    "\n",
    "    # split data into the appropriate groups\n",
    "    X_train, X_test, y_train, y_test = train_test_split(X, y, test_size=0.2)\n",
    "\n",
    "    # scale X data\n",
    "    scaler = StandardScaler()\n",
    "    X_train = scaler.fit_transform(X_train)\n",
    "    X_test = scaler.transform(X_test)\n",
    "\n",
    "    class ANN_Model(nn.Module):\n",
    "        def __init__(self, input_size):\n",
    "            super(ANN_Model, self).__init__()\n",
    "            self.fc1 = nn.Linear(input_size, 512)\n",
    "            self.fc2 = nn.Linear(512, 512)\n",
    "            self.fc3 = nn.Linear(512, 1)\n",
    "            self.relu = nn.ReLU()\n",
    "            self.dropout = nn.Dropout(0.1)\n",
    "\n",
    "        def forward(self, x):\n",
    "            x = self.relu(self.fc1(x))\n",
    "            x = self.dropout(x)\n",
    "            x = self.relu(self.fc2(x))\n",
    "            x = self.dropout(x)\n",
    "            x = self.fc3(x)\n",
    "            return x\n",
    "\n",
    "    # load the saved model\n",
    "    model = ANN_Model(input_size=X_train.shape[1])\n",
    "    model.load_state_dict(torch.load(model_name))\n",
    "    device = torch.device(\"cuda\")\n",
    "    model.to(device)\n",
    "    model.eval()\n",
    "\n",
    "    # loop through the test data and get recommended bets\n",
    "    real_X = pd.read_csv(df_name).drop('Outcome', axis=1)\n",
    "    real_y = pd.read_csv(df_name)['Outcome']\n",
    "\n",
    "    # loop through the test data and get recommended bets\n",
    "    winning_bets = []\n",
    "    losing_bets = []\n",
    "    for i in range(len(real_X)):\n",
    "        X_tensor = torch.tensor(scaler.transform(np.array(real_X.iloc[i].values.reshape(1, -1))), dtype=torch.float32).cuda().to(device)\n",
    "        y_tensor = torch.tensor([real_y.iloc[i]], dtype=torch.float32).cuda().to(device)\n",
    "        outputs = model(X_tensor)\n",
    "        prediction = torch.sigmoid(outputs).item()\n",
    "        actual = real_y.iloc[i]\n",
    "\n",
    "        if prediction > threshold and actual == 1:\n",
    "            winning_bets.append([real_X.iloc[i].loc['Column501'], prediction])\n",
    "        elif prediction > threshold and actual == 0:\n",
    "            losing_bets.append([real_X.iloc[i].loc['Column501'], prediction])\n",
    "\n",
    "    return [winning_bets, losing_bets]\n"
   ]
  },
  {
   "cell_type": "code",
   "execution_count": 4,
   "metadata": {},
   "outputs": [],
   "source": [
    "def calculate_winnings(bet_amount, odds):\n",
    "    if odds > 0:\n",
    "        return (bet_amount * odds / 100)\n",
    "    return bet_amount / (odds / -100)\n",
    "\n",
    "\n",
    "def calculate_profit(bets:list):\n",
    "    winnings = 0\n",
    "    losings = 0\n",
    "    for bet in bets[0]:\n",
    "        odds = bet[0]\n",
    "        winnings += calculate_winnings(100, odds)\n",
    "    for bet in bets[1]:\n",
    "        losings += calculate_winnings(100, odds)\n",
    "    return winnings - losings"
   ]
  },
  {
   "cell_type": "code",
   "execution_count": 17,
   "metadata": {},
   "outputs": [
    {
     "name": "stdout",
     "output_type": "stream",
     "text": [
      "50 53900 0.2261244084340613\n",
      "51 54200 0.2077707562487059\n",
      "52 53300 0.22337428216817026\n",
      "53 53100 0.23033234464935415\n",
      "54 53200 0.21948260278129234\n",
      "55 51900 0.21085728627054484\n",
      "56 51300 0.21114953949547186\n",
      "57 50300 0.2003635661389568\n",
      "58 50400 0.21137810170533344\n",
      "59 50000 0.20921169647582988\n",
      "60 49400 0.19903947947567824\n",
      "61 48100 0.20924732088362263\n",
      "62 48300 0.19957206019228915\n",
      "63 47600 0.11083540232238888\n",
      "64 47700 0.12415529827204434\n",
      "65 46900 0.12775262019118713\n",
      "66 46200 0.11648246274585657\n",
      "67 46300 0.10977679488195245\n",
      "68 45500 0.12171920001301967\n",
      "69 45700 0.11681373146976123\n",
      "70 44700 0.12252524946664903\n",
      "71 44100 0.10644364673763244\n",
      "72 43400 0.10961453644552199\n",
      "73 42600 0.10840815841320005\n",
      "74 43200 0.11395110065746115\n",
      "75 41900 0.10287190391994425\n",
      "76 42400 0.0967531314680582\n",
      "77 41500 0.10229806335620527\n",
      "78 41500 0.10221412965414685\n",
      "79 41400 0.09884315148279676\n",
      "80 40300 0.1095016546818213\n",
      "81 39900 0.09798726621977152\n",
      "82 39400 0.10055301937031491\n",
      "83 39600 0.10907062903875617\n",
      "84 38100 0.09648711541085571\n",
      "85 36900 0.10368393062573537\n",
      "86 36200 0.10258983018052463\n",
      "87 36000 0.09376199072841437\n",
      "88 34300 0.10086016458264153\n",
      "89 34200 0.08801012748136303\n",
      "90 33200 0.08742034617872936\n",
      "91 32900 0.0777862722988113\n",
      "92 31000 0.06168490726178184\n",
      "93 30400 0.07924039826885512\n",
      "94 28300 0.09782885126614922\n",
      "95 26000 0.11869020829356584\n",
      "96 24500 0.10132593374066769\n",
      "97 22900 0.11092283987010053\n",
      "98 21700 -0.17837609655312078\n",
      "99 17600 -0.16691774434857853\n"
     ]
    }
   ],
   "source": [
    "threshold_list = {}\n",
    "for i in range(50, 100):\n",
    "    bets = eval_pytorch(\"csvs/new_ml_X.csv\", \"built_models/torch_ml.pth\", (i / 100))\n",
    "    investment = (len(bets[0]) + len(bets[1])) * 100\n",
    "    profit = calculate_profit(bets) / investment\n",
    "    threshold_list[i] = profit\n",
    "    print(i, investment, profit)"
   ]
  },
  {
   "cell_type": "code",
   "execution_count": 16,
   "metadata": {},
   "outputs": [
    {
     "name": "stdout",
     "output_type": "stream",
     "text": [
      "50 61100 0.15505435838466708\n",
      "51 57300 0.15190260311109421\n",
      "52 52400 0.1718171337510168\n",
      "53 46400 0.17528736301027947\n",
      "54 41500 0.1678274904140346\n",
      "55 36700 0.16813151002353813\n",
      "56 34000 0.1561394701367648\n",
      "57 31000 0.14643287857278\n",
      "58 27700 0.1629642113319983\n",
      "59 24000 0.16367195521769665\n",
      "60 21700 0.15664300072771092\n",
      "61 19200 0.16089115918599683\n",
      "62 17000 0.1696685892293021\n",
      "63 15600 0.16700872595500332\n",
      "64 13800 0.15964852911872607\n",
      "65 12300 0.129830511602786\n",
      "66 10200 0.23163307843966982\n",
      "67 8900 0.20935821186942832\n",
      "68 7100 0.2086419007191932\n",
      "69 6500 0.22396100401245853\n",
      "70 5500 0.29673061106147064\n",
      "71 4500 0.28990365949159747\n",
      "72 4300 0.28033050431788126\n",
      "73 3100 0.14686898326562675\n",
      "74 3000 0.1287761102940212\n",
      "75 2500 0.11922237396986325\n",
      "76 2100 0.05843276704621243\n",
      "77 2100 0.05843276704621243\n",
      "78 1700 -0.033847121736395105\n",
      "79 1600 -0.004712566844919799\n",
      "80 1400 0.06604278074866309\n",
      "81 1100 0.15592286501377406\n",
      "82 800 0.32803030303030295\n",
      "83 600 0.5383838383838383\n",
      "84 600 0.5383838383838383\n",
      "85 600 0.5383838383838383\n",
      "86 600 0.5383838383838383\n",
      "87 600 0.5383838383838383\n",
      "88 600 0.5383838383838383\n",
      "89 600 0.5383838383838383\n",
      "90 600 0.5383838383838383\n",
      "91 600 0.5383838383838383\n",
      "92 400 0.007575757575757578\n",
      "93 600 0.5383838383838383\n",
      "94 400 0.007575757575757578\n",
      "95 400 0.007575757575757578\n",
      "96 300 0.11111111111111112\n",
      "97 300 0.11111111111111112\n",
      "98 200 0.3181818181818182\n",
      "99 200 0.3181818181818182\n"
     ]
    }
   ],
   "source": [
    "threshold_list = {}\n",
    "for i in range(50, 100):\n",
    "    bets = eval_keras(\"csvs/new_ml_X.csv\", \"built_models/keras_ml.h5\", (i / 100))\n",
    "    investment = (len(bets[0]) + len(bets[1])) * 100\n",
    "    profit = calculate_profit(bets) / investment\n",
    "    threshold_list[i] = profit\n",
    "    print(i, investment, profit)"
   ]
  },
  {
   "cell_type": "code",
   "execution_count": 48,
   "metadata": {},
   "outputs": [
    {
     "name": "stdout",
     "output_type": "stream",
     "text": [
      "46 53\n",
      "[[[165.0, 0.9999998211860657], [155.0, 0.9999998211860657], [-170.0, 0.9999575018882751], [-205.0, 0.9999731779098511], [-185.0, 0.9990999102592468], [-188.0, 0.9991106390953064], [125.0, 0.9998530149459839], [121.0, 0.9998555183410645], [-220.0, 0.9978433847427368], [-240.0, 0.9983752369880676], [-180.0, 0.9999837279319763], [-180.0, 0.9999837279319763], [-170.0, 0.9994417428970337], [-180.0, 0.9994694590568542], [-190.0, 0.9982215166091919], [-190.0, 0.9982249736785889], [-110.0, 0.9998399019241333], [-113.0, 0.9998425841331482], [-225.0, 0.9987900257110596], [-200.0, 0.9985896348953247], [-110.0, 0.9982495903968811], [-106.0, 0.9982390999794006], [-115.0, 0.9999886155128479], [-110.0, 0.9999876022338867], [-150.0, 0.9987389445304871], [-128.0, 0.9984725713729858], [-180.0, 0.9997872710227966], [-162.0, 0.9997240900993347], [-310.0, 0.9998161196708679], [-270.0, 0.999708890914917], [-110.0, 0.9996381998062134], [-111.0, 0.9996432662010193], [-370.0, 0.9999819993972778], [-400.0, 0.9999865889549255], [-280.0, 0.9999900460243225], [-280.0, 0.9999900460243225], [-145.0, 0.9997590184211731], [-155.0, 0.9997679591178894], [-103.0, 0.9991974830627441], [-115.0, 0.9985945820808411], [-115.0, 0.9985938668251038], [-105.0, 0.9994120001792908], [-195.0, 0.9981274008750916], [-190.0, 0.9981018900871277], [135.0, 0.9981390833854675], [147.0, 0.9979833960533142]], [[280.0, 0.9995982646942139], [300.0, 0.9995288252830505], [155.0, 0.9981868863105774], [165.0, 0.9980119466781616], [200.0, 0.9975374341011047], [105.0, 0.9999452829360962], [105.0, 0.9999452829360962], [110.0, 0.9999464154243469], [-105.0, 0.9999622702598572], [150.0, 0.9998971223831177], [170.0, 0.9998869299888611], [100.0, 0.9975752234458923], [100.0, 0.9975778460502625], [-130.0, 0.9990711808204651], [-115.0, 0.9990396499633789], [-315.0, 0.9999885559082031], [-240.0, 0.9999773502349854], [105.0, 0.9991140961647034], [-110.0, 0.9995523691177368], [140.0, 0.9990764260292053], [116.0, 0.9993792176246643], [100.0, 0.9996245503425598], [118.0, 0.9995602965354919], [-315.0, 0.9993769526481628], [-230.0, 0.9987072348594666], [-270.0, 0.999901533126831], [-290.0, 0.9999157190322876], [-125.0, 0.9975464344024658], [-145.0, 0.9982808232307434], [-107.0, 0.9982897043228149], [-210.0, 0.9996527433395386], [-190.0, 0.9995865821838379], [-195.0, 0.9995580911636353], [-230.0, 0.999683141708374], [-170.0, 0.9994933009147644], [-155.0, 0.9994662404060364], [-105.0, 0.9988501071929932], [-115.0, 0.9989438056945801], [-280.0, 0.9999938011169434], [-200.0, 0.9999727606773376], [-235.0, 0.9996815919876099], [-185.0, 0.9996339678764343], [-110.0, 0.9996747970581055], [-107.0, 0.9996618032455444], [130.0, 0.9979730248451233], [109.0, 0.9980697631835938], [100.0, 0.9976269006729126], [-102.0, 0.9997468590736389], [100.0, 0.9975739121437073], [-115.0, 0.9999604821205139], [102.0, 0.9993036389350891], [-110.0, 0.9999547600746155], [-112.0, 0.9999562501907349]]]\n"
     ]
    }
   ],
   "source": [
    "a = eval_keras(\"csvs/new_ml_X.csv\", \"built_models/keras_ml.h5\", .9975)\n",
    "print(len(a[0]), len(a[1]))\n",
    "print(a)"
   ]
  },
  {
   "cell_type": "code",
   "execution_count": 13,
   "metadata": {},
   "outputs": [
    {
     "name": "stdout",
     "output_type": "stream",
     "text": [
      "24 12\n",
      "[[[165.0, 0.9999984502792358], [155.0, 0.9999985694885254], [-170.0, 0.9999852180480957], [-205.0, 0.9999887943267822], [-190.0, 0.9999169111251831], [-240.0, 0.9999387264251709], [-185.0, 0.9999980926513672], [-164.0, 0.9999977350234985], [-180.0, 0.9999864101409912], [-180.0, 0.9999864101409912], [-160.0, 0.9999995231628418], [-195.0, 0.9999995231628418], [-185.0, 0.9999780654907227], [-156.0, 0.9999693632125854], [-145.0, 0.9999942779541016], [-170.0, 0.9999947547912598], [-315.0, 0.9999990463256836], [-310.0, 0.9999990463256836], [-250.0, 0.9999853372573853], [-240.0, 0.9999845027923584], [-180.0, 0.9999949932098389], [-200.0, 0.9999955892562866], [-370.0, 0.9999616146087646], [-400.0, 0.9999669790267944]], [[-450.0, 0.9999887943267822], [-550.0, 0.9999924898147583], [-280.0, 0.9999752044677734], [-280.0, 0.9999752044677734], [-195.0, 0.9999793767929077], [-185.0, 0.9999784231185913], [-120.0, 0.9999850988388062], [-110.0, 0.9999843835830688], [-300.0, 0.9999704360961914], [-290.0, 0.9999681711196899], [-210.0, 0.9999430179595947], [-245.0, 0.9999556541442871]]]\n"
     ]
    }
   ],
   "source": [
    "b = eval_pytorch(\"csvs/new_ml_X.csv\", \"built_models/torch_ml.pth\", .9999)\n",
    "print(len(b[0]), len(b[1]))\n",
    "print(b)"
   ]
  },
  {
   "cell_type": "code",
   "execution_count": 46,
   "metadata": {},
   "outputs": [
    {
     "data": {
      "text/plain": [
       "-87.49664429530202"
      ]
     },
     "execution_count": 46,
     "metadata": {},
     "output_type": "execute_result"
    }
   ],
   "source": [
    "average_odds = 0\n",
    "for bet_list in a:\n",
    "    for bet in bet_list:\n",
    "        average_odds += bet[0]\n",
    "average_odds / (len(a[0]) + len(a[1]))"
   ]
  },
  {
   "cell_type": "code",
   "execution_count": 14,
   "metadata": {},
   "outputs": [
    {
     "data": {
      "text/plain": [
       "-213.47222222222223"
      ]
     },
     "execution_count": 14,
     "metadata": {},
     "output_type": "execute_result"
    }
   ],
   "source": [
    "average_odds = 0\n",
    "for bet_list in b:\n",
    "    for bet in bet_list:\n",
    "        average_odds += bet[0]\n",
    "average_odds / (len(b[0]) + len(b[1]))"
   ]
  }
 ],
 "metadata": {
  "kernelspec": {
   "display_name": "base",
   "language": "python",
   "name": "python3"
  },
  "language_info": {
   "codemirror_mode": {
    "name": "ipython",
    "version": 3
   },
   "file_extension": ".py",
   "mimetype": "text/x-python",
   "name": "python",
   "nbconvert_exporter": "python",
   "pygments_lexer": "ipython3",
   "version": "3.11.3"
  },
  "orig_nbformat": 4
 },
 "nbformat": 4,
 "nbformat_minor": 2
}
